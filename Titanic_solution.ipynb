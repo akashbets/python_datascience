{
 "cells": [
  {
   "cell_type": "code",
   "execution_count": null,
   "metadata": {
    "collapsed": true
   },
   "outputs": [],
   "source": [
    "import pandas as pd\n",
    "import numpy as np\n",
    "import matplotlib.pyplot as plt\n",
    "\n",
    "%matplotlib inline\n",
    "\n",
    "#Read CSV train file\n",
    "train_data = pd.read_csv('train.csv')"
   ]
  },
  {
   "cell_type": "code",
   "execution_count": null,
   "metadata": {},
   "outputs": [],
   "source": [
    "train_data.head()\n",
    "# train_data.describe()\n"
   ]
  },
  {
   "cell_type": "code",
   "execution_count": null,
   "metadata": {},
   "outputs": [],
   "source": [
    "fig = plt.figure(figsize=(10,4))\n",
    "fig.add_subplot(121)\n",
    "train_data.Survived[train_data['Sex'] == 'male'].value_counts().plot(kind='pie')\n",
    "fig.add_subplot(122)\n",
    "train_data.Survived[train_data['Sex'] == 'female'].value_counts().plot(kind='pie')"
   ]
  },
  {
   "cell_type": "code",
   "execution_count": null,
   "metadata": {},
   "outputs": [],
   "source": [
    "from sklearn.preprocessing import LabelEncoder\n",
    "train_data['Sex'] = LabelEncoder().fit_transform(train_data['Sex'])"
   ]
  },
  {
   "cell_type": "code",
   "execution_count": null,
   "metadata": {},
   "outputs": [],
   "source": [
    "\n",
    "train_data['Name'] = train_data['Name'].map(lambda x: x.split(',')[1].split('.')[0].strip())\n",
    "titles = train_data['Name'].unique()\n",
    "titles"
   ]
  },
  {
   "cell_type": "code",
   "execution_count": null,
   "metadata": {},
   "outputs": [],
   "source": [
    "train_data['Age'].fillna(-1, inplace=True)\n",
    "\n",
    "medians = dict()\n",
    "for title in titles:\n",
    "    median = train_data.Age[(train_data[\"Age\"] != -1) & (train_data['Name'] == title)].median()\n",
    "    medians[title] = median\n",
    "    \n",
    "for index, row in train_data.iterrows():\n",
    "    if row['Age'] == -1:\n",
    "        train_data.loc[index, 'Age'] = medians[row['Name']]\n",
    "\n",
    "train_data.drop('PassengerId', axis=1, inplace=True)        \n",
    "train_data.head()"
   ]
  },
  {
   "cell_type": "code",
   "execution_count": null,
   "metadata": {},
   "outputs": [],
   "source": [
    "fig = plt.figure(figsize=(15,6))\n",
    "\n",
    "i=1\n",
    "for title in train_data['Name'].unique():\n",
    "    fig.add_subplot(3, 6, i)\n",
    "    plt.title('Title : {}'.format(title))\n",
    "    train_data.Survived[train_data['Name'] == title].value_counts().plot(kind='pie')\n",
    "    i += 1\n",
    "    "
   ]
  },
  {
   "cell_type": "code",
   "execution_count": null,
   "metadata": {},
   "outputs": [],
   "source": [
    "replacement = {\n",
    "    'Don': 0,\n",
    "    'Rev': 0,\n",
    "    'Jonkheer': 0,\n",
    "    'Capt': 0,\n",
    "    'Mr': 1,\n",
    "    'Dr': 2,\n",
    "    'Col': 3,\n",
    "    'Major': 3,\n",
    "    'Master': 4,\n",
    "    'Miss': 5,\n",
    "    'Mrs': 6,\n",
    "    'Mme': 7,\n",
    "    'Ms': 7,\n",
    "    'Mlle': 7,\n",
    "    'Sir': 7,\n",
    "    'Lady': 7,\n",
    "    'the Countess': 7\n",
    "}\n",
    "\n",
    "train_data['Name'] = train_data['Name'].apply(lambda x: replacement.get(x))\n",
    "\n",
    "from sklearn.preprocessing import StandardScaler\n",
    "train_data['Name'] = StandardScaler().fit_transform(train_data['Name'].values.reshape(-1, 1))\n"
   ]
  },
  {
   "cell_type": "code",
   "execution_count": null,
   "metadata": {},
   "outputs": [],
   "source": [
    "train_data.head()[['Pclass', 'Age', 'SibSp', 'Parch', 'Ticket', 'Cabin', 'Embarked']]\n"
   ]
  },
  {
   "cell_type": "code",
   "execution_count": null,
   "metadata": {},
   "outputs": [],
   "source": [
    "train_data['Age'] = StandardScaler().fit_transform(train_data['Age'].values.reshape(-1, 1))\n",
    "train_data.head()"
   ]
  },
  {
   "cell_type": "code",
   "execution_count": null,
   "metadata": {},
   "outputs": [],
   "source": [
    "\n",
    "train_data['Fare'].fillna(-1, inplace=True)\n",
    "medians = dict()\n",
    "for pclass in train_data['Pclass'].unique():\n",
    "    median = train_data.Fare[(train_data[\"Fare\"] != -1) & (train_data['Pclass'] == pclass)].median()\n",
    "    medians[pclass] = median\n",
    "for index, row in train_data.iterrows():\n",
    "    if row['Fare'] == -1:\n",
    "        train_data.loc[index, 'Fare'] = medians[row['Pclass']]\n",
    "train_data['Fare'] = StandardScaler().fit_transform(train_data['Fare'].values.reshape(-1, 1))"
   ]
  },
  {
   "cell_type": "code",
   "execution_count": null,
   "metadata": {},
   "outputs": [],
   "source": [
    "fig = plt.figure(figsize=(15,4))\n",
    "\n",
    "i=1\n",
    "for pclass in train_data['Pclass'].unique():\n",
    "    fig.add_subplot(1, 3, i)\n",
    "    plt.title('Class : {}'.format(pclass))\n",
    "    train_data.Survived[train_data['Pclass'] == pclass].value_counts().plot(kind='pie')\n",
    "    i += 1"
   ]
  },
  {
   "cell_type": "code",
   "execution_count": null,
   "metadata": {},
   "outputs": [],
   "source": [
    "train_data['Pclass'] = StandardScaler().fit_transform(train_data['Pclass'].values.reshape(-1, 1))\n"
   ]
  },
  {
   "cell_type": "code",
   "execution_count": null,
   "metadata": {},
   "outputs": [],
   "source": [
    "fig = plt.figure(figsize=(15,8))\n",
    "i = 0\n",
    "for parch in train_data['Parch'].unique():\n",
    "    fig.add_subplot(2, 4, i+1)\n",
    "    plt.title('Parents / Child : {}'.format(parch))\n",
    "    train_data.Survived[train_data['Parch'] == parch].value_counts().plot(kind='pie')\n",
    "    i += 1"
   ]
  },
  {
   "cell_type": "code",
   "execution_count": null,
   "metadata": {},
   "outputs": [],
   "source": [
    "replacement = {\n",
    "    6: 0,\n",
    "    4: 0,\n",
    "    5: 1,\n",
    "    0: 2,\n",
    "    2: 3,\n",
    "    1: 4,\n",
    "    3: 5\n",
    "}\n",
    "train_data['Parch'] = train_data['Parch'].apply(lambda x: replacement.get(x))\n",
    "train_data['Parch'] = StandardScaler().fit_transform(train_data['Parch'].values.reshape(-1, 1))"
   ]
  },
  {
   "cell_type": "code",
   "execution_count": null,
   "metadata": {},
   "outputs": [],
   "source": [
    "train_data['Embarked'].value_counts()"
   ]
  },
  {
   "cell_type": "code",
   "execution_count": null,
   "metadata": {},
   "outputs": [],
   "source": [
    "train_data['Embarked'].fillna('S', inplace=True)\n",
    "fig = plt.figure(figsize=(15,4))\n",
    "i = 1\n",
    "for embarked in train_data['Embarked'].unique():\n",
    "    fig.add_subplot(1, 3, i)\n",
    "    plt.title('Embarked : {}'.format(embarked))\n",
    "    train_data.Survived[train_data['Embarked'] == embarked].value_counts().plot(kind='pie')\n",
    "    i += 1\n"
   ]
  },
  {
   "cell_type": "code",
   "execution_count": null,
   "metadata": {},
   "outputs": [],
   "source": [
    "replacement = {\n",
    "    'S': 0,\n",
    "    'Q': 1,\n",
    "    'C': 2\n",
    "}\n",
    "\n",
    "train_data['Embarked'] = train_data['Embarked'].apply(lambda x: replacement.get(x))\n",
    "train_data['Embarked'] = StandardScaler().fit_transform(train_data['Embarked'].values.reshape(-1, 1))\n",
    "train_data.head()['Embarked']"
   ]
  },
  {
   "cell_type": "code",
   "execution_count": null,
   "metadata": {},
   "outputs": [],
   "source": [
    "train_data['SibSp'].unique()"
   ]
  },
  {
   "cell_type": "code",
   "execution_count": null,
   "metadata": {},
   "outputs": [],
   "source": [
    "fig = plt.figure(figsize=(15,8))\n",
    "i = 1\n",
    "for sibsp in train_data['SibSp'].unique():\n",
    "    fig.add_subplot(2, 4, i)\n",
    "    plt.title('SibSp : {}'.format(sibsp))\n",
    "    train_data.Survived[train_data['SibSp'] == sibsp].value_counts().plot(kind='pie')\n",
    "    i += 1"
   ]
  },
  {
   "cell_type": "code",
   "execution_count": null,
   "metadata": {},
   "outputs": [],
   "source": [
    "replacement = {\n",
    "    5: 0,\n",
    "    8: 0,\n",
    "    4: 1,\n",
    "    3: 2,\n",
    "    0: 3,\n",
    "    2: 4,\n",
    "    1: 5\n",
    "}\n",
    "\n",
    "train_data['SibSp'] = train_data['SibSp'].apply(lambda x: replacement.get(x))\n",
    "train_data['SibSp'] = StandardScaler().fit_transform(train_data['SibSp'].values.reshape(-1, 1))\n",
    "train_data.head()['SibSp']"
   ]
  },
  {
   "cell_type": "code",
   "execution_count": null,
   "metadata": {},
   "outputs": [],
   "source": [
    "# a=1\n",
    "# def myfunc(n):\n",
    "#  return lambda a : a * n\n",
    "# #a=1\n",
    "# mydoubler = myfunc(2)\n",
    "# mytripler = myfunc(3)\n",
    "\n",
    "# print(mydoubler(11)) \n",
    "# print(mytripler(11))\n"
   ]
  },
  {
   "cell_type": "code",
   "execution_count": null,
   "metadata": {},
   "outputs": [],
   "source": [
    "# mydoubler\n",
    "# mytripler"
   ]
  },
  {
   "cell_type": "code",
   "execution_count": null,
   "metadata": {},
   "outputs": [],
   "source": [
    "train_data['Cabin'].fillna('U', inplace=True)\n",
    "train_data['Cabin'] = train_data['Cabin'].apply(lambda x: x[0])\n",
    "train_data['Cabin'].unique()"
   ]
  },
  {
   "cell_type": "code",
   "execution_count": null,
   "metadata": {},
   "outputs": [],
   "source": [
    "train_data['Cabin'].fillna('U', inplace=True)\n",
    "train_data['Cabin'] = train_data['Cabin'].apply(lambda x: x[0])\n",
    "train_data['Cabin'].unique()"
   ]
  },
  {
   "cell_type": "code",
   "execution_count": null,
   "metadata": {},
   "outputs": [],
   "source": [
    "replacement = {\n",
    "    'T': 0,\n",
    "    'U': 1,\n",
    "    'A': 2,\n",
    "    'G': 3,\n",
    "    'C': 4,\n",
    "    'F': 5,\n",
    "    'B': 6,\n",
    "    'E': 7,\n",
    "    'D': 8\n",
    "}\n",
    "\n",
    "train_data['Cabin'] = train_data['Cabin'].apply(lambda x: replacement.get(x))\n",
    "train_data['Cabin'] = StandardScaler().fit_transform(train_data['Cabin'].values.reshape(-1, 1))\n",
    "train_data.head()['Cabin']"
   ]
  },
  {
   "cell_type": "code",
   "execution_count": null,
   "metadata": {},
   "outputs": [],
   "source": [
    "train_data.head()\n",
    "#train_data.describe()\n",
    "#train_data.drop('Ticket', axis=1, inplace=True)\n",
    "#train_data.drop('Ticket')"
   ]
  },
  {
   "cell_type": "code",
   "execution_count": null,
   "metadata": {},
   "outputs": [],
   "source": [
    "from sklearn.model_selection import train_test_split\n",
    "survived = train_data['Survived']\n",
    "train_data.drop('Survived', axis=1, inplace=True)\n",
    "X_train, X_test, y_train, y_test = train_test_split(train_data, survived, test_size=0.2, random_state=42)"
   ]
  },
  {
   "cell_type": "code",
   "execution_count": null,
   "metadata": {},
   "outputs": [],
   "source": [
    "\n",
    "from sklearn.neural_network import MLPClassifier\n",
    "from sklearn.neighbors import KNeighborsClassifier\n",
    "from sklearn.svm import SVC\n",
    "from sklearn.gaussian_process import GaussianProcessClassifier\n",
    "from sklearn.tree import DecisionTreeClassifier\n",
    "from sklearn.ensemble import RandomForestClassifier, AdaBoostClassifier\n",
    "from sklearn.naive_bayes import GaussianNB\n",
    "from sklearn.discriminant_analysis import QuadraticDiscriminantAnalysis\n",
    "\n",
    "models = [\n",
    "    RandomForestClassifier(n_estimators=100),\n",
    "    MLPClassifier(),\n",
    "]\n",
    "\n",
    "for model in models:\n",
    "    model.fit(X_train, y_train)\n",
    "    score = model.score(X_test, y_test)\n",
    "    print(score)"
   ]
  },
  {
   "cell_type": "code",
   "execution_count": null,
   "metadata": {
    "collapsed": true
   },
   "outputs": [],
   "source": []
  }
 ],
 "metadata": {
  "kernelspec": {
   "display_name": "Python 3",
   "language": "python",
   "name": "python3"
  },
  "language_info": {
   "codemirror_mode": {
    "name": "ipython",
    "version": 3
   },
   "file_extension": ".py",
   "mimetype": "text/x-python",
   "name": "python",
   "nbconvert_exporter": "python",
   "pygments_lexer": "ipython3",
   "version": "3.6.3"
  }
 },
 "nbformat": 4,
 "nbformat_minor": 2
}
